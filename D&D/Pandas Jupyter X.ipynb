{
 "cells": [
  {
   "cell_type": "code",
   "execution_count": null,
   "source": [
    "import pandas\r\n",
    "pandas.__version__"
   ],
   "outputs": [],
   "metadata": {}
  },
  {
   "cell_type": "markdown",
   "source": [
    "Pandas Jupyter Experiment\r\n",
    "\r\n",
    "For this exercise, you will be choosing a dataset that is already available in CSV, using either the links suggested in the module or an external source. Note that the completeness and organization of the CSV will impact your success, so you might want to investigate it using our initial methods before you commit to it and your object of analysis.\r\n",
    "I have provided the headings for each section: you can modify them to reflect your final workflow. Here's what you need to accomplish and document:\r\n",
    "Complete the five sequential stages of importing, analyzing, and visualizing your CSV data using the Pandas library. The headers are provided, but you will need to plan out and structure what happens in the code using a combination of our class exercise and the textbook for guidance.\r\n",
    "\r\n",
    "Create a well-structured, readable documentation for every cell of your Python code. Use Markdown (as demonstrated in this example) and preview the results on GitHub to confirm it works as intended.\r\n",
    "\r\n",
    "As a bonus exercise, output and save a meaningful, formatted visualization, following the examples in the textbook."
   ],
   "metadata": {}
  },
  {
   "cell_type": "markdown",
   "source": [
    "Stage One: Import Libraries / Data\r\n",
    "(Describe your code briefly here)\r\n"
   ],
   "metadata": {}
  },
  {
   "cell_type": "code",
   "execution_count": null,
   "source": [
    "import pandas as pd\r\n",
    "\r\n",
    "#create a dataframe object from a csv\r\n",
    "oscar_df = pd.read_csv('the_oscar_award.csv', delimiter=\",\")\r\n",
    "\r\n",
    "oscar_df"
   ],
   "outputs": [],
   "metadata": {}
  },
  {
   "cell_type": "markdown",
   "source": [
    "Stage Two: Display a Summary and Sub-sections of the Data\r\n",
    "(Show at least three different views using filtering or value sorting, and describe your choices)"
   ],
   "metadata": {}
  },
  {
   "cell_type": "code",
   "execution_count": null,
   "source": [
    "oscar_df.head(10)\r\n"
   ],
   "outputs": [],
   "metadata": {}
  },
  {
   "cell_type": "code",
   "execution_count": null,
   "source": [
    "\r\n",
    "print(oscar_df['year_ceremony'].min())\r\n",
    "print(oscar_df['year_film'].mean())\r\n",
    "print(oscar_df['year_film'].max())"
   ],
   "outputs": [],
   "metadata": {}
  },
  {
   "cell_type": "code",
   "execution_count": null,
   "source": [
    "oscar_df.sample(10)\r\n"
   ],
   "outputs": [],
   "metadata": {}
  },
  {
   "cell_type": "code",
   "execution_count": null,
   "source": [
    "oscar_df.describe(include='all')\r\n"
   ],
   "outputs": [],
   "metadata": {}
  },
  {
   "cell_type": "markdown",
   "source": [
    "Stage Three: Clean Your Data\r\n",
    "(Varies by dataset: you might replace missing values with a filler, replace shorthand from the dataset with readable language, and/or delete duplicates)\r\n",
    "\r\n"
   ],
   "metadata": {}
  },
  {
   "cell_type": "code",
   "execution_count": null,
   "source": [
    "oscar_df['name'].value_counts()[:10]\r\n"
   ],
   "outputs": [],
   "metadata": {}
  },
  {
   "cell_type": "markdown",
   "source": [
    "Stage Four: Plot Your Data\r\n",
    "(Try at least three different plots - bar, hist, box, area, scatter, hexbin, and pie are all worth viewing - and describe your choices)\r\n",
    "\r\n"
   ],
   "metadata": {}
  },
  {
   "cell_type": "code",
   "execution_count": null,
   "source": [
    "oscar_df['film'].value_counts()\r\n"
   ],
   "outputs": [],
   "metadata": {}
  },
  {
   "cell_type": "code",
   "execution_count": null,
   "source": [
    "oscar_df['film'] = oscar_df['film'].fillna('No title available')\r\n"
   ],
   "outputs": [],
   "metadata": {}
  },
  {
   "cell_type": "code",
   "execution_count": null,
   "source": [
    "oscar_df['film'].value_counts()[:15].plot(kind=\"barh\", title=\"Most Oscar Nominated Films\")\r\n"
   ],
   "outputs": [],
   "metadata": {}
  },
  {
   "cell_type": "code",
   "execution_count": null,
   "source": [
    "oscar_df[oscar_df['film'].str.contains('Woman')]\r\n"
   ],
   "outputs": [],
   "metadata": {}
  },
  {
   "cell_type": "markdown",
   "source": [
    "Stage Five: Draw Comparisons and Make Claims\r\n",
    "(Think of all the methods we've used so far - what might you analyze about this dataset? This section can mostly be commentary drawing on what you've found so far)\r\n"
   ],
   "metadata": {}
  },
  {
   "cell_type": "code",
   "execution_count": null,
   "source": [],
   "outputs": [],
   "metadata": {}
  },
  {
   "cell_type": "markdown",
   "source": [
    "Bonus: Export a Meaningful Visualization\r\n",
    "(Use the guidance in the book to get started!)"
   ],
   "metadata": {}
  },
  {
   "cell_type": "code",
   "execution_count": null,
   "source": [],
   "outputs": [],
   "metadata": {}
  }
 ],
 "metadata": {
  "orig_nbformat": 4,
  "language_info": {
   "name": "python",
   "version": "3.8.8",
   "mimetype": "text/x-python",
   "codemirror_mode": {
    "name": "ipython",
    "version": 3
   },
   "pygments_lexer": "ipython3",
   "nbconvert_exporter": "python",
   "file_extension": ".py"
  },
  "kernelspec": {
   "name": "python3",
   "display_name": "Python 3.8.8 64-bit"
  },
  "interpreter": {
   "hash": "598d64e08a06bfba065a99698ec5bbec753236817de80e4f3bcf221574aa140c"
  }
 },
 "nbformat": 4,
 "nbformat_minor": 2
}