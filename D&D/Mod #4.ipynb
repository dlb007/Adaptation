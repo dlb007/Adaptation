{
 "cells": [
  {
   "cell_type": "code",
   "execution_count": 1,
   "source": [
    "# For this exercise, you should start by reading in the text file produced from Exercise Three. This text file should already have the HTML code elements removed, and primarily consist of text and other characters that we will remove through our processing. Store the input of your file in a string, and convert the contents to lower case for consistency. \r\n",
    "\r\n",
    "f = open('dogememe.txt','r')\r\n",
    "fileText = str(f.read().lower())\r\n",
    "f.close()"
   ],
   "outputs": [],
   "metadata": {}
  },
  {
   "cell_type": "code",
   "execution_count": 2,
   "source": [
    "# This week, we'll be using functions that we've already defined in our exercises. Try looking back through your code and notes from class. Our first step is to import the regular expressions module and remove all non-alpha-numeric characters from the string, then save the string as an array of words ready for processing. (Use the code in NormalizingText for reference)\r\n",
    "\r\n",
    "def preprocess_text(text):\r\n",
    "    import re\r\n",
    "    return re.compile(r'\\W+', re.UNICODE).split(text)\r\n",
    "\r\n",
    "word_bag = preprocess_text(fileText)\r\n",
    "print(word_bag[0:50])"
   ],
   "outputs": [
    {
     "output_type": "stream",
     "name": "stdout",
     "text": [
      "['', 'content', 'this', 'guide', 'is', 'an', 'introduction', 'to', 'the', 'resources', 'for', 'film', 'studies', 'at', 'dartmouth', 'if', 'you', 'are', 'interested', 'in', 'television', 'see', 'the', 'separate', 'research', 'guide', 'for', 'television']\n"
     ]
    }
   ],
   "metadata": {}
  },
  {
   "cell_type": "code",
   "execution_count": 3,
   "source": [
    "# Next, we'll use stop words to remove all the words that we don't want to include in our count. There are suggested words in this week's readings, but you can also generate a custom list based on your topic. Define the stop words in an array, and use a loop to remove any word in your bag of words that also appears on the stop words list (use the examples in Dictionaries for guidance.)\r\n",
    "\r\n",
    "stop_words = ['is','a','on','the','in','aboutdoge','xca','xcb','x92','of','or','be','was','to','s','n','x88do','x8ad']\r\n",
    "\r\n",
    "def removeStopWords(word_bag, stop_words):\r\n",
    "    return [w for w in word_bag if w not in stop_words]\r\n",
    "\r\n",
    "cleaned_words = removeStopWords(word_bag, stop_words)\r\n",
    "\r\n",
    "print(cleaned_words[0:50])"
   ],
   "outputs": [
    {
     "output_type": "stream",
     "name": "stdout",
     "text": [
      "['', 'content', 'this', 'guide', 'an', 'introduction', 'resources', 'for', 'film', 'studies', 'at', 'dartmouth', 'if', 'you', 'are', 'interested', 'television', 'see', 'separate', 'research', 'guide', 'for', 'television']\n"
     ]
    }
   ],
   "metadata": {}
  },
  {
   "cell_type": "code",
   "execution_count": 4,
   "source": [
    "# Now we're ready to count our words, and move from an array to a dictionary. Using the functions we've already built in the \"Dictionaries.ipynb\" file, process your text by building a dictionary that zips words with their frequency, then removes redundancy by storing the data in the \"dictionary\" format.\r\n",
    "\r\n",
    "def wordsToDictionary(word_bag):\r\n",
    "    word_freq = [word_bag.count(word) for word in word_bag]\r\n",
    "    return dict(list(zip(word_bag,word_freq)))\r\n",
    "\r\n",
    "dict_words = wordsToDictionary(cleaned_words)\r\n",
    "\r\n",
    "print(dict_words)"
   ],
   "outputs": [
    {
     "output_type": "stream",
     "name": "stdout",
     "text": [
      "{'': 1, 'content': 1, 'this': 1, 'guide': 2, 'an': 1, 'introduction': 1, 'resources': 1, 'for': 2, 'film': 1, 'studies': 1, 'at': 1, 'dartmouth': 1, 'if': 1, 'you': 1, 'are': 1, 'interested': 1, 'television': 2, 'see': 1, 'separate': 1, 'research': 1}\n"
     ]
    }
   ],
   "metadata": {}
  },
  {
   "cell_type": "code",
   "execution_count": 5,
   "source": [
    "# Finally, explore what you can learn from this dictionary. Try: \r\n",
    "# A. Sorting your dictionary using our prebuilt method\r\n",
    "def sortDictionary(words):\r\n",
    "    aux = [(words[key], key) for key in words]\r\n",
    "    aux.sort()\r\n",
    "    aux.reverse()\r\n",
    "    return aux\r\n",
    "\r\n",
    "sort_dict = sortDictionary(dict_words)\r\n",
    "\r\n",
    "# B. Printing the top five most frequent words from your data\r\n",
    "x = 0\r\n",
    "for pair in sort_dict:\r\n",
    "    print(str(pair))\r\n",
    "    x += 1\r\n",
    "    if x==4:\r\n",
    "        break\r\n",
    "\r\n",
    "# C. Querying for certain key words and printing their frequency\r\n",
    "\r\n",
    "print(\"Meme frequency: \" + str(dict_words.get(\"meme\")))\r\n",
    "print(\"Tumblr frequency: \" + str(dict_words.get(\"tumblr\")))\r\n",
    "\r\n",
    "# D. Comparing the relative frequency of words of interest\r\n",
    "\r\n",
    "def compare_words(word_one, word_two):\r\n",
    "    if not word_one in dict_words or not word_two in dict_words:\r\n",
    "       print(\"Word(s) not found\")\r\n",
    "    elif dict_words[word_one] >  dict_words[word_two]:\r\n",
    "        print(word_one + \" appeared more often\")\r\n",
    "    elif dict_words[word_two] >  dict_words[word_one]:\r\n",
    "        print(word_two + \" appeared more often\") \r\n",
    "    else:\r\n",
    "        print(\"Words occurred with equal frequency\")\r\n",
    "\r\n",
    "compare_words(\"doge\",\"meme\")\r\n",
    "compare_words(\"doge\",\"fred\")\r\n",
    "compare_words(\"royalty\",\"free\")"
   ],
   "outputs": [
    {
     "output_type": "stream",
     "name": "stdout",
     "text": [
      "(2, 'television')\n",
      "(2, 'guide')\n",
      "(2, 'for')\n",
      "(1, 'you')\n",
      "Meme frequency: None\n",
      "Tumblr frequency: None\n",
      "Word(s) not found\n",
      "Word(s) not found\n",
      "Word(s) not found\n"
     ]
    }
   ],
   "metadata": {}
  }
 ],
 "metadata": {
  "orig_nbformat": 4,
  "language_info": {
   "name": "python",
   "version": "3.8.8",
   "mimetype": "text/x-python",
   "codemirror_mode": {
    "name": "ipython",
    "version": 3
   },
   "pygments_lexer": "ipython3",
   "nbconvert_exporter": "python",
   "file_extension": ".py"
  },
  "kernelspec": {
   "name": "python3",
   "display_name": "Python 3.8.8 64-bit"
  },
  "interpreter": {
   "hash": "598d64e08a06bfba065a99698ec5bbec753236817de80e4f3bcf221574aa140c"
  }
 },
 "nbformat": 4,
 "nbformat_minor": 2
}